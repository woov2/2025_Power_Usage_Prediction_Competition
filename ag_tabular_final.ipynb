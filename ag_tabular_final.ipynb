{
 "cells": [
  {
   "cell_type": "code",
   "execution_count": null,
   "metadata": {
    "id": "TkCKcvCdxFmK"
   },
   "outputs": [],
   "source": [
    "# !pip install -U pip\n",
    "# !pip install -U setuptools wheel\n",
    "# !pip install autogluon"
   ]
  },
  {
   "cell_type": "code",
   "execution_count": null,
   "metadata": {
    "id": "kvY2HmDexFj3"
   },
   "outputs": [],
   "source": [
    "import pandas as pd\n",
    "import random\n",
    "import os\n",
    "import numpy as np\n",
    "from tqdm import tqdm\n",
    "import math\n",
    "import os\n",
    "import torch\n",
    "import random\n",
    "import itertools\n",
    "\n",
    "import math\n",
    "import warnings\n",
    "warnings.filterwarnings(action='ignore')\n",
    "\n",
    "import pandas as pd\n",
    "import numpy as np\n",
    "import random\n",
    "import os\n",
    "import matplotlib.pyplot as plt\n",
    "import warnings; warnings.filterwarnings(\"ignore\")\n",
    "import shutil\n",
    "import time\n",
    "from scipy.stats import gmean\n",
    "from itertools import combinations\n",
    "from tqdm import tqdm\n",
    "tqdm.pandas()"
   ]
  },
  {
   "cell_type": "code",
   "execution_count": null,
   "metadata": {
    "id": "gMEEwm7ukGC2"
   },
   "outputs": [],
   "source": [
    "future_covariates = [\n",
    "    'temp', 'prec', 'wind', 'hum', 'isolation',\n",
    "    'sunshine', 'use', 'area_1', 'area_2', 'hour', 'month', 'holiday',\n",
    "    'sin_hour', 'cos_hour', 'sin_date', 'cos_date',\n",
    "    'sin_weekday', 'cos_weekday', 'summer_sin', 'summer_cos', 'temp_F',\n",
    "    'temp2', 'THI', 'WC', 'is_rain', 'log_temp', 'wind_power', 'dew_point',\n",
    "    'solar_per_hour', 'CDH', 'min_temp', 'max_temp', 'min_wind', 'max_wind',\n",
    "    'min_hum', 'max_hum', 'mean_THI', 'mean_CDH', 'min_log_temp',\n",
    "    'max_log_temp', 'mean_WC',\n",
    "    'target_mean_1', 'target_std_1', 'target_min_1', 'target_max_1', 'z_score',\n",
    "]\n",
    "\n",
    "train_df = pd.read_csv('./data/train_p_final.csv')\n",
    "train_df[\"log_power\"] = np.log(train_df[\"power\"])   # 로그 변환\n",
    "cat_features = ['holiday','use', 'build_num']\n",
    "for col in cat_features:\n",
    "    train_df[col] = train_df[col].astype('category')\n",
    "num_cols = train_df.select_dtypes(include=[\"number\"]).columns\n",
    "train_df[num_cols] = train_df[num_cols].clip(lower=-1e6, upper=1e6)\n",
    "train_df.rename(columns={'build_num':'item_id', 'date_time':'timestamp'}, inplace=True)\n",
    "train_df.drop(columns=['num_date_time', 'timestamp', 'power'], inplace=True)  # 원래 power는 제거\n",
    "\n",
    "# predictor 학습 시 label을 'log_power'로 지정\n",
    "from autogluon.tabular import TabularPredictor\n",
    "predictor = TabularPredictor(label='log_power', eval_metric='smape').fit(\n",
    "    train_df,\n",
    "    presets='best_quality',\n",
    "    dynamic_stacking=False,\n",
    "    ag_args_fit={'num_gpus': 1}\n",
    ")\n",
    "\n",
    "test_df = pd.read_csv('./data/test_p_final.csv')\n",
    "test_df.drop(columns=['num_date_time'], inplace=True)\n",
    "for col in cat_features:\n",
    "    test_df[col] = test_df[col].astype('category')\n",
    "num_cols = test_df.select_dtypes(include=[\"number\"]).columns\n",
    "test_df[num_cols] = test_df[num_cols].clip(lower=-1e6, upper=1e6)\n",
    "test_df.rename(columns={'build_num':'item_id', 'date_time':'timestamp'}, inplace=True)\n",
    "\n",
    "# log-space 예측\n",
    "y_pred_log = predictor.predict(test_df)\n",
    "\n",
    "sub = pd.read_csv('./sample_submission.csv')\n",
    "sub['answer'] = np.exp(y_pred_log)\n",
    "sub.to_csv('./submission/ag_tabular_final.csv', index=False)"
   ]
  },
  {
   "cell_type": "code",
   "execution_count": null,
   "metadata": {
    "id": "O4I0-pKzkGC3"
   },
   "outputs": [],
   "source": []
  }
 ],
 "metadata": {
  "accelerator": "GPU",
  "colab": {
   "gpuType": "T4",
   "machine_shape": "hm",
   "provenance": []
  },
  "kernelspec": {
   "display_name": "Python 3 (ipykernel)",
   "language": "python",
   "name": "python3"
  },
  "language_info": {
   "codemirror_mode": {
    "name": "ipython",
    "version": 3
   },
   "file_extension": ".py",
   "mimetype": "text/x-python",
   "name": "python",
   "nbconvert_exporter": "python",
   "pygments_lexer": "ipython3",
   "version": "3.8.5"
  }
 },
 "nbformat": 4,
 "nbformat_minor": 1
}
