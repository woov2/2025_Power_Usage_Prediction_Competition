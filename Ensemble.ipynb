{
 "cells": [
  {
   "cell_type": "markdown",
   "id": "e65d7cb9-40e9-49cc-8e97-4b78a8bfe7fe",
   "metadata": {},
   "source": [
    "## Library version check"
   ]
  },
  {
   "cell_type": "code",
   "execution_count": null,
   "id": "civilian-stations",
   "metadata": {},
   "outputs": [],
   "source": [
    "import pandas as pd\n",
    "import numpy as np\n",
    "print(\"-------------------------- Python & library version --------------------------\")\n",
    "print(\"pandas version: {}\".format(pd.__version__))\n",
    "print(\"numpy version: {}\".format(np.__version__))\n",
    "print(\"------------------------------------------------------------------------------\")"
   ]
  },
  {
   "cell_type": "markdown",
   "id": "8b787279",
   "metadata": {},
   "source": [
    "## Submission Ensemble"
   ]
  },
  {
   "cell_type": "code",
   "execution_count": null,
   "id": "211ada27",
   "metadata": {},
   "outputs": [],
   "source": [
    "submission = pd.read_csv('./sample_submission.csv')\n",
    "\n",
    "total_1 = pd.read_csv('./submission/ag_tabular_final.csv')\n",
    "total_2 = pd.read_csv('./submission/LGBM_log_ensemble_test.csv')\n",
    "byb_1 = pd.read_csv('./submission/XGB_byb_final.csv')\n",
    "byb_2 = pd.read_csv('./submission/ag_ts_ChronosFineTuned[bolt_small]_FULL.csv')\n",
    "info_1 = pd.read_csv('./submission/LGBM_info_3.csv')\n",
    "\n",
    "submission['answer'] = (total_1['answer']*0.5 + total_2['answer']*0.5)*0.3 + (byb_1['answer']*0.7 + byb_2['answer']*0.3)*0.5 + info_1['answer']*0.2\n",
    "submission.to_csv('./submission/Final.csv', index = False)"
   ]
  },
  {
   "cell_type": "code",
   "execution_count": null,
   "id": "2946ce95",
   "metadata": {},
   "outputs": [],
   "source": []
  },
  {
   "cell_type": "code",
   "execution_count": null,
   "id": "6ab6e619",
   "metadata": {},
   "outputs": [],
   "source": []
  },
  {
   "cell_type": "code",
   "execution_count": null,
   "id": "65720469",
   "metadata": {},
   "outputs": [],
   "source": []
  }
 ],
 "metadata": {
  "kernelspec": {
   "display_name": "Python 3 (ipykernel)",
   "language": "python",
   "name": "python3"
  },
  "language_info": {
   "codemirror_mode": {
    "name": "ipython",
    "version": 3
   },
   "file_extension": ".py",
   "mimetype": "text/x-python",
   "name": "python",
   "nbconvert_exporter": "python",
   "pygments_lexer": "ipython3",
   "version": "3.8.5"
  }
 },
 "nbformat": 4,
 "nbformat_minor": 5
}
