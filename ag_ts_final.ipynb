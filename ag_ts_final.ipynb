{
 "cells": [
  {
   "cell_type": "code",
   "execution_count": null,
   "id": "lmsQ7WBV_RWP",
   "metadata": {
    "id": "lmsQ7WBV_RWP"
   },
   "outputs": [],
   "source": [
    "# !pip install -U pip\n",
    "# !pip install -U setuptools wheel\n",
    "# !pip install autogluon"
   ]
  },
  {
   "cell_type": "code",
   "execution_count": null,
   "id": "YmLIPfrl_yvf",
   "metadata": {
    "id": "YmLIPfrl_yvf"
   },
   "outputs": [],
   "source": [
    "import pandas as pd\n",
    "import numpy as np\n",
    "from autogluon.timeseries import TimeSeriesDataFrame, TimeSeriesPredictor"
   ]
  },
  {
   "cell_type": "code",
   "execution_count": null,
   "id": "gShSbA5p_U1x",
   "metadata": {
    "colab": {
     "background_save": true
    },
    "id": "gShSbA5p_U1x"
   },
   "outputs": [],
   "source": [
    "future_covariates = [\n",
    "    'temp', 'prec', 'wind', 'hum', 'isolation',\n",
    "    'sunshine', 'use', 'area_1', 'area_2', 'hour', 'month', 'holiday',\n",
    "    'sin_hour', 'cos_hour', 'sin_date', 'cos_date',\n",
    "    'sin_weekday', 'cos_weekday', 'summer_sin', 'summer_cos', 'temp_F',\n",
    "    'temp2', 'THI', 'WC', 'is_rain', 'log_temp', 'wind_power', 'dew_point',\n",
    "    'solar_per_hour', 'CDH',\n",
    "    'target_mean_1', 'target_std_1', 'target_min_1', 'target_max_1', 'z_score',\n",
    "    'min_temp', 'max_temp', 'min_wind', 'max_wind',\n",
    "    'min_hum', 'max_hum', 'mean_THI', 'mean_CDH', 'min_log_temp', 'max_log_temp', 'mean_WC'\n",
    "]\n",
    "\n",
    "train_df = pd.read_csv('./data/train_p_final.csv')\n",
    "train_df[\"log_power\"] = np.log(train_df[\"power\"])\n",
    "cat_features = ['holiday','use']\n",
    "for col in cat_features:\n",
    "    train_df[col] = train_df[col].astype('category')\n",
    "num_cols = train_df.select_dtypes(include=[\"number\"]).columns\n",
    "train_df[num_cols] = train_df[num_cols].clip(lower=-1e6, upper=1e6)\n",
    "train_df.rename(columns={'build_num':'item_id', 'date_time':'timestamp'}, inplace=True)\n",
    "train_df.drop(columns=['num_date_time'], inplace=True)\n",
    "train_df.drop(columns=drop_col, inplace=True)\n",
    "\n",
    "data = TimeSeriesDataFrame(train_df)\n",
    "predictor = TimeSeriesPredictor(\n",
    "    prediction_length=7*24,\n",
    "    target=\"power\",\n",
    "    eval_metric=\"SMAPE\",\n",
    "    known_covariates_names=future_covariates,\n",
    ")\n",
    "# seed 고정\n",
    "predictor.fit(data, random_seed=42, presets='best_quality', num_val_windows=7*24)\n",
    "predictor.refit_full()"
   ]
  },
  {
   "cell_type": "code",
   "execution_count": null,
   "id": "jTeo4ugjMoQF",
   "metadata": {
    "colab": {
     "background_save": true
    },
    "id": "jTeo4ugjMoQF"
   },
   "outputs": [],
   "source": [
    "model_list = [\n",
    " 'ChronosFineTuned[bolt_small]_FULL',\n",
    " 'ChronosZeroShot[bolt_base]_FULL',\n",
    " 'DirectTabular_FULL',\n",
    " 'TiDE_FULL',\n",
    " 'RecursiveTabular_FULL',\n",
    " 'NPTS_FULL',\n",
    " 'SeasonalNaive_FULL',\n",
    " 'DynamicOptimizedTheta_FULL',\n",
    " 'PatchTST_FULL',\n",
    " 'AutoETS_FULL',\n",
    " 'TemporalFusionTransformer_FULL',\n",
    " 'DeepAR_FULL',\n",
    "]\n",
    "\n",
    "history_df = pd.read_csv('./data/train_p_final.csv')\n",
    "history_df[\"log_power\"] = np.log(history_df[\"power\"])\n",
    "cat_features = ['holiday','use']\n",
    "for col in cat_features:\n",
    "    history_df[col] = history_df[col].astype('category')\n",
    "num_cols = history_df.select_dtypes(include=[\"number\"]).columns\n",
    "history_df[num_cols] = history_df[num_cols].clip(lower=-1e6, upper=1e6)\n",
    "history_df.rename(columns={'build_num':'item_id', 'date_time':'timestamp'}, inplace=True)\n",
    "history_df.drop(columns=['num_date_time'], inplace=True)\n",
    "\n",
    "# TimeSeriesDataFrame 변환\n",
    "history_tsd = TimeSeriesDataFrame(history_df)\n",
    "\n",
    "# 미래 covariates 준비\n",
    "test_df = pd.read_csv('./data/test_p_final.csv')\n",
    "test_df.drop(columns=['num_date_time'], inplace=True)\n",
    "for col in ['holiday','use']:\n",
    "    test_df[col] = test_df[col].astype('category')\n",
    "num_cols = test_df.select_dtypes(include=[\"number\"]).columns\n",
    "test_df[num_cols] = test_df[num_cols].clip(lower=-1e6, upper=1e6)\n",
    "test_df.rename(columns={'build_num':'item_id', 'date_time':'timestamp'}, inplace=True)\n",
    "\n",
    "future_cov_tsd = TimeSeriesDataFrame(test_df[['item_id','timestamp'] + future_covariates])\n",
    "\n",
    "\n",
    "for model in model_list:\n",
    "    # 예측\n",
    "    pred = predictor.predict(\n",
    "        data=history_tsd,            # 과거 power 포함된 데이터\n",
    "        known_covariates=future_cov_tsd,\n",
    "        model=model\n",
    "    )\n",
    "    submission = pd.read_csv('./sample_submission.csv')\n",
    "    submission['answer'] = pred.reset_index()['mean']\n",
    "    submission.to_csv(f'./submission/ag_ts_{model}.csv', index=False)"
   ]
  },
  {
   "cell_type": "code",
   "execution_count": null,
   "id": "719698ca",
   "metadata": {},
   "outputs": [],
   "source": []
  }
 ],
 "metadata": {
  "accelerator": "GPU",
  "colab": {
   "gpuType": "A100",
   "machine_shape": "hm",
   "provenance": []
  },
  "kernelspec": {
   "display_name": "Python 3 (ipykernel)",
   "language": "python",
   "name": "python3"
  },
  "language_info": {
   "codemirror_mode": {
    "name": "ipython",
    "version": 3
   },
   "file_extension": ".py",
   "mimetype": "text/x-python",
   "name": "python",
   "nbconvert_exporter": "python",
   "pygments_lexer": "ipython3",
   "version": "3.8.5"
  }
 },
 "nbformat": 4,
 "nbformat_minor": 5
}
